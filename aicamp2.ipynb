{
 "cells": [
  {
   "cell_type": "code",
   "execution_count": 1,
   "source": [
    "def hours_in_building(in_list):\n",
    "    dic = {}\n",
    "    for i in range(24):\n",
    "        num_empl = 0\n",
    "        for tup in in_list:\n",
    "            if (i >= tup[0] and i < tup[1]):\n",
    "                num_empl += 1\n",
    "        dic[i] = num_empl\n",
    "        \n",
    "    return dic\n",
    "        \n",
    "in_list = [(5, 19), (8, 12), (9, 21), (4, 14), (5, 13), (7, 20), (15, 18)]\n",
    "hours_in_building(in_list)"
   ],
   "outputs": [
    {
     "output_type": "execute_result",
     "data": {
      "text/plain": [
       "{0: 0,\n",
       " 1: 0,\n",
       " 2: 0,\n",
       " 3: 0,\n",
       " 4: 1,\n",
       " 5: 3,\n",
       " 6: 3,\n",
       " 7: 4,\n",
       " 8: 5,\n",
       " 9: 6,\n",
       " 10: 6,\n",
       " 11: 6,\n",
       " 12: 5,\n",
       " 13: 4,\n",
       " 14: 3,\n",
       " 15: 4,\n",
       " 16: 4,\n",
       " 17: 4,\n",
       " 18: 3,\n",
       " 19: 2,\n",
       " 20: 1,\n",
       " 21: 0,\n",
       " 22: 0,\n",
       " 23: 0}"
      ]
     },
     "metadata": {},
     "execution_count": 1
    }
   ],
   "metadata": {}
  }
 ],
 "metadata": {
  "kernelspec": {
   "name": "python3",
   "display_name": "Python 3.8.10 64-bit"
  },
  "language_info": {
   "codemirror_mode": {
    "name": "ipython",
    "version": 3
   },
   "file_extension": ".py",
   "mimetype": "text/x-python",
   "name": "python",
   "nbconvert_exporter": "python",
   "pygments_lexer": "ipython3",
   "version": "3.8.10"
  },
  "interpreter": {
   "hash": "767d51c1340bd893661ea55ea3124f6de3c7a262a8b4abca0554b478b1e2ff90"
  }
 },
 "nbformat": 4,
 "nbformat_minor": 4
}